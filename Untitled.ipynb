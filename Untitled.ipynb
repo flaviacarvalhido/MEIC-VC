{
 "cells": [
  {
   "cell_type": "code",
   "execution_count": 1,
   "id": "07af9da0",
   "metadata": {},
   "outputs": [],
   "source": [
    "image_path = \"./archive/images\"\n",
    "anotation_path = \"./archive/annotations\""
   ]
  },
  {
   "cell_type": "code",
   "execution_count": 10,
   "id": "9222ac9e",
   "metadata": {},
   "outputs": [],
   "source": [
    "# import xlsxwriter module\n",
    "import xlsxwriter\n",
    "import xml.dom.minidom\n",
    "import os\n",
    "\n",
    "from os import listdir\n",
    "from os.path import isfile, join\n",
    "onlyfiles = [\".\".join(f.split(\".\")[:-1]) for f in listdir(image_path) if isfile(join(image_path, f))]\n",
    " \n",
    "workbook = xlsxwriter.Workbook('Example.xlsx')\n",
    "worksheet = workbook.add_worksheet()\n",
    "\n",
    "worksheet.write('A1', 'File Name')\n",
    "worksheet.write('B1', 'Stop Sign Count')\n",
    "worksheet.write('C1', 'Round Red Sign Count')\n",
    "worksheet.write('D1', 'Blue Square Sign Count')\n",
    "# Start from the first cell.\n",
    "# Rows and columns are zero indexed.\n",
    "row = 1\n",
    "column = 0\n",
    "\n",
    " \n",
    "# iterating through content list\n",
    "for item in onlyfiles :\n",
    "    stops = 0;\n",
    "    blueSigns = 0;\n",
    "    redSigns = 0;\n",
    "    doc = xml.dom.minidom.parse(os.path.join(anotation_path,item + \".xml\"));\n",
    "    \n",
    "    signsNames = doc.getElementsByTagName(\"name\")\n",
    "    \n",
    "    for sign in signsNames:\n",
    "     if sign.childNodes[0].nodeValue == \"stop\":\n",
    "        stops += 1\n",
    "     elif sign.childNodes[0].nodeValue == \"speedlimit\":\n",
    "        redSigns += 1\n",
    "     elif sign.childNodes[0].nodeValue == \"crosswalk\":\n",
    "        blueSigns += 1\n",
    "    \n",
    "    # write operation perform\n",
    "    worksheet.write(row, column, item)\n",
    "    worksheet.write(row, 1, stops)\n",
    "    worksheet.write(row, 2, redSigns)\n",
    "    worksheet.write(row, 3, blueSigns)\n",
    " \n",
    "    # incrementing the value of row by one\n",
    "    # with each iterations.\n",
    "    row += 1\n",
    "     \n",
    "workbook.close()"
   ]
  },
  {
   "cell_type": "code",
   "execution_count": null,
   "id": "fa9f7016",
   "metadata": {},
   "outputs": [],
   "source": []
  }
 ],
 "metadata": {
  "kernelspec": {
   "display_name": "Python 3 (ipykernel)",
   "language": "python",
   "name": "python3"
  },
  "language_info": {
   "codemirror_mode": {
    "name": "ipython",
    "version": 3
   },
   "file_extension": ".py",
   "mimetype": "text/x-python",
   "name": "python",
   "nbconvert_exporter": "python",
   "pygments_lexer": "ipython3",
   "version": "3.9.7"
  }
 },
 "nbformat": 4,
 "nbformat_minor": 5
}
