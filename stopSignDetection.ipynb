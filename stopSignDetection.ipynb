{
 "cells": [
  {
   "cell_type": "markdown",
   "id": "38bd5665",
   "metadata": {},
   "source": [
    "# Stop Sign Detection"
   ]
  },
  {
   "cell_type": "code",
   "execution_count": 2,
   "id": "6ac85c45",
   "metadata": {},
   "outputs": [],
   "source": [
    "# imports\n",
    "import numpy as np\n",
    "import cv2\n",
    "import os\n",
    "import math"
   ]
  },
  {
   "cell_type": "markdown",
   "id": "bda3d444",
   "metadata": {},
   "source": [
    "## Data Set Folder"
   ]
  },
  {
   "cell_type": "code",
   "execution_count": 3,
   "id": "6b8b24ae",
   "metadata": {},
   "outputs": [],
   "source": [
    "image_path = \"./archive/images\""
   ]
  },
  {
   "cell_type": "markdown",
   "id": "aabef01a",
   "metadata": {},
   "source": [
    "## Test Result"
   ]
  },
  {
   "cell_type": "code",
   "execution_count": 8,
   "id": "71440751",
   "metadata": {},
   "outputs": [],
   "source": [
    "#blurring and smoothin\n",
    "img1=cv2.imread(os.path.join(image_path,'road89.png'),1)\n",
    "\n",
    "hsv = cv2.cvtColor(img1,cv2.COLOR_BGR2HSV)\n",
    "\n",
    "originalImage = img1\n",
    "img1 = removeShadows(img1)\n",
    "#lower red\n",
    "lower_red = np.array([0,50,50])\n",
    "upper_red = np.array([10,255,255])\n",
    "\n",
    "\n",
    "#upper red\n",
    "lower_red2 = np.array([170,50,50])\n",
    "upper_red2 = np.array([180,255,255])\n",
    "\n",
    "mask = cv2.inRange(hsv, lower_red, upper_red)\n",
    "res = cv2.bitwise_and(img1,img1, mask= mask)\n",
    "\n",
    "\n",
    "mask2 = cv2.inRange(hsv, lower_red2, upper_red2)\n",
    "res2 = cv2.bitwise_and(img1,img1, mask= mask2)\n",
    "\n",
    "img3 = res+res2\n",
    "img4 = cv2.add(res,res2)\n",
    "img5 = cv2.addWeighted(res,0.5,res2,0.5,0)\n",
    "\n",
    "\n",
    "kernel = np.ones((15,15),np.float32)/225\n",
    "smoothed = cv2.filter2D(res,-1,kernel)\n",
    "smoothed2 = cv2.filter2D(img3,-1,kernel)\n",
    "\n",
    "cv2.imshow('Original',img1)\n",
    "cv2.imshow('Averaging',smoothed)\n",
    "cv2.imshow('mask',mask)\n",
    "cv2.imshow('res',res)\n",
    "cv2.imshow('mask2',mask2)\n",
    "cv2.imshow('res2',res2)\n",
    "cv2.imshow('res3',img3)\n",
    "cv2.imshow('res4',img4)\n",
    "cv2.imshow('res5',img5)\n",
    "cv2.imshow('smooth2',smoothed2)\n",
    "\n",
    "\n",
    "\n",
    "\n",
    "cv2.waitKey(0)\n",
    "cv2.destroyAllWindows() "
   ]
  },
  {
   "cell_type": "code",
   "execution_count": 6,
   "id": "8265efd8",
   "metadata": {},
   "outputs": [],
   "source": [
    "\n",
    "def closing(testImgRed):\n",
    "    kernel = np.ones((3,3),np.uint8)\n",
    "    testImgRed = cv2.morphologyEx(testImgRed, cv2.MORPH_CLOSE, kernel)\n",
    "    return testImgRed\n",
    "\n",
    "def removeShadows(testImg):\n",
    "\n",
    "    rgb_planes = cv2.split(testImg)\n",
    "    result_norm_planes = []\n",
    "    for plane in rgb_planes:\n",
    "        dilated_img = cv2.dilate(plane, np.ones((7,7), np.uint8))\n",
    "        bg_img = cv2.medianBlur(dilated_img, 21)\n",
    "        diff_img = 255 - cv2.absdiff(plane, bg_img)\n",
    "        norm_img = cv2.normalize(diff_img,None, alpha=0, beta=255, norm_type=cv2.NORM_MINMAX, dtype=cv2.CV_8UC1)\n",
    "        result_norm_planes.append(norm_img)\n",
    "\n",
    "    testImg = cv2.merge(result_norm_planes)\n",
    "\n",
    "    return testImg\n",
    "\n",
    "img = img5\n",
    "#cv2.imshow('img1',img[:,:,0])\n",
    "\n",
    "#img = closing(img)\n",
    "\n",
    "ret,thresh1 = cv2.threshold(img[:,:,0], 0, 255,cv2.THRESH_BINARY_INV + cv2.THRESH_OTSU)\n",
    "thresh1 = cv2.bitwise_not(thresh1)\n",
    "\n",
    "# Creating kernel\n",
    "kernel = np.ones((5, 5), np.uint8)\n",
    "\n",
    "kernel2 = np.ones((3, 3), np.uint8)\n",
    "#thresh1 = cv2.erode(thresh1, kernel2) \n",
    "#thresh1 = cv2.dilate(thresh1, kernel)\n",
    "# Using cv2.erode() method \n",
    "\n",
    "\n",
    "\n",
    "\n",
    "\n",
    "#thresh1 = closing(thresh1)\n",
    "\n",
    "cv2.imshow('thresh', thresh1)       \n",
    "cv2.waitKey(0)\n",
    "cv2.destroyAllWindows()\n",
    "\n",
    "contours, hierarchy = cv2.findContours(thresh1, cv2.RETR_EXTERNAL, cv2.CHAIN_APPROX_NONE)\n",
    "newImage = originalImage.copy()\n",
    "for cnt in contours:\n",
    "    approx = cv2.approxPolyDP(cnt,0.0125*cv2.arcLength(cnt,True),True)\n",
    "    if len(approx)==8:\n",
    "        cv2.drawContours(newImage, [cnt], 0, (0, 255, 0), 6)\n",
    "\n",
    "cv2.imshow('sign', newImage)       \n",
    "cv2.waitKey(0)\n",
    "cv2.destroyAllWindows()"
   ]
  }
 ],
 "metadata": {
  "kernelspec": {
   "display_name": "Python 3 (ipykernel)",
   "language": "python",
   "name": "python3"
  },
  "language_info": {
   "codemirror_mode": {
    "name": "ipython",
    "version": 3
   },
   "file_extension": ".py",
   "mimetype": "text/x-python",
   "name": "python",
   "nbconvert_exporter": "python",
   "pygments_lexer": "ipython3",
   "version": "3.9.7"
  }
 },
 "nbformat": 4,
 "nbformat_minor": 5
}
